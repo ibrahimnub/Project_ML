{
 "cells": [
  {
   "cell_type": "code",
   "execution_count": 4,
   "metadata": {},
   "outputs": [],
   "source": [
    "import numpy as np\n",
    "import pandas as pd\n",
    "import matplotlib.pyplot as plt\n",
    "from sklearn.model_selection import train_test_split\n",
    "from sklearn.linear_model import LinearRegression\n",
    "from sklearn import metrics\n",
    "%matplotlib inline"
   ]
  },
  {
   "cell_type": "code",
   "execution_count": 6,
   "metadata": {},
   "outputs": [
    {
     "data": {
      "text/html": [
       "<div>\n",
       "<style scoped>\n",
       "    .dataframe tbody tr th:only-of-type {\n",
       "        vertical-align: middle;\n",
       "    }\n",
       "\n",
       "    .dataframe tbody tr th {\n",
       "        vertical-align: top;\n",
       "    }\n",
       "\n",
       "    .dataframe thead th {\n",
       "        text-align: right;\n",
       "    }\n",
       "</style>\n",
       "<table border=\"1\" class=\"dataframe\">\n",
       "  <thead>\n",
       "    <tr style=\"text-align: right;\">\n",
       "      <th></th>\n",
       "      <th>Date</th>\n",
       "      <th>Symbol</th>\n",
       "      <th>Series</th>\n",
       "      <th>Prev Close</th>\n",
       "      <th>Open</th>\n",
       "      <th>High</th>\n",
       "      <th>Low</th>\n",
       "      <th>Last</th>\n",
       "      <th>Close</th>\n",
       "      <th>VWAP</th>\n",
       "      <th>Volume</th>\n",
       "      <th>Turnover</th>\n",
       "      <th>Trades</th>\n",
       "      <th>Deliverable Volume</th>\n",
       "      <th>%Deliverble</th>\n",
       "    </tr>\n",
       "  </thead>\n",
       "  <tbody>\n",
       "    <tr>\n",
       "      <th>0</th>\n",
       "      <td>2000-01-03</td>\n",
       "      <td>ICICIBANK</td>\n",
       "      <td>EQ</td>\n",
       "      <td>69.20</td>\n",
       "      <td>74.35</td>\n",
       "      <td>74.75</td>\n",
       "      <td>71.40</td>\n",
       "      <td>74.75</td>\n",
       "      <td>74.75</td>\n",
       "      <td>73.20</td>\n",
       "      <td>286260</td>\n",
       "      <td>2.095439e+12</td>\n",
       "      <td>NaN</td>\n",
       "      <td>NaN</td>\n",
       "      <td>NaN</td>\n",
       "    </tr>\n",
       "    <tr>\n",
       "      <th>1</th>\n",
       "      <td>2000-01-04</td>\n",
       "      <td>ICICIBANK</td>\n",
       "      <td>EQ</td>\n",
       "      <td>74.75</td>\n",
       "      <td>73.05</td>\n",
       "      <td>78.50</td>\n",
       "      <td>71.00</td>\n",
       "      <td>73.25</td>\n",
       "      <td>73.05</td>\n",
       "      <td>73.38</td>\n",
       "      <td>296264</td>\n",
       "      <td>2.173893e+12</td>\n",
       "      <td>NaN</td>\n",
       "      <td>NaN</td>\n",
       "      <td>NaN</td>\n",
       "    </tr>\n",
       "    <tr>\n",
       "      <th>2</th>\n",
       "      <td>2000-01-05</td>\n",
       "      <td>ICICIBANK</td>\n",
       "      <td>EQ</td>\n",
       "      <td>73.05</td>\n",
       "      <td>70.00</td>\n",
       "      <td>73.50</td>\n",
       "      <td>67.50</td>\n",
       "      <td>70.00</td>\n",
       "      <td>69.50</td>\n",
       "      <td>70.85</td>\n",
       "      <td>227624</td>\n",
       "      <td>1.612794e+12</td>\n",
       "      <td>NaN</td>\n",
       "      <td>NaN</td>\n",
       "      <td>NaN</td>\n",
       "    </tr>\n",
       "    <tr>\n",
       "      <th>3</th>\n",
       "      <td>2000-01-06</td>\n",
       "      <td>ICICIBANK</td>\n",
       "      <td>EQ</td>\n",
       "      <td>69.50</td>\n",
       "      <td>71.00</td>\n",
       "      <td>74.00</td>\n",
       "      <td>69.55</td>\n",
       "      <td>69.75</td>\n",
       "      <td>70.05</td>\n",
       "      <td>72.04</td>\n",
       "      <td>275149</td>\n",
       "      <td>1.982121e+12</td>\n",
       "      <td>NaN</td>\n",
       "      <td>NaN</td>\n",
       "      <td>NaN</td>\n",
       "    </tr>\n",
       "    <tr>\n",
       "      <th>4</th>\n",
       "      <td>2000-01-07</td>\n",
       "      <td>ICICIBANK</td>\n",
       "      <td>EQ</td>\n",
       "      <td>70.05</td>\n",
       "      <td>69.00</td>\n",
       "      <td>72.50</td>\n",
       "      <td>66.00</td>\n",
       "      <td>67.00</td>\n",
       "      <td>67.40</td>\n",
       "      <td>68.72</td>\n",
       "      <td>138809</td>\n",
       "      <td>9.538882e+11</td>\n",
       "      <td>NaN</td>\n",
       "      <td>NaN</td>\n",
       "      <td>NaN</td>\n",
       "    </tr>\n",
       "  </tbody>\n",
       "</table>\n",
       "</div>"
      ],
      "text/plain": [
       "         Date     Symbol Series  Prev Close   Open   High    Low   Last  \\\n",
       "0  2000-01-03  ICICIBANK     EQ       69.20  74.35  74.75  71.40  74.75   \n",
       "1  2000-01-04  ICICIBANK     EQ       74.75  73.05  78.50  71.00  73.25   \n",
       "2  2000-01-05  ICICIBANK     EQ       73.05  70.00  73.50  67.50  70.00   \n",
       "3  2000-01-06  ICICIBANK     EQ       69.50  71.00  74.00  69.55  69.75   \n",
       "4  2000-01-07  ICICIBANK     EQ       70.05  69.00  72.50  66.00  67.00   \n",
       "\n",
       "   Close   VWAP  Volume      Turnover  Trades  Deliverable Volume  %Deliverble  \n",
       "0  74.75  73.20  286260  2.095439e+12     NaN                 NaN          NaN  \n",
       "1  73.05  73.38  296264  2.173893e+12     NaN                 NaN          NaN  \n",
       "2  69.50  70.85  227624  1.612794e+12     NaN                 NaN          NaN  \n",
       "3  70.05  72.04  275149  1.982121e+12     NaN                 NaN          NaN  \n",
       "4  67.40  68.72  138809  9.538882e+11     NaN                 NaN          NaN  "
      ]
     },
     "execution_count": 6,
     "metadata": {},
     "output_type": "execute_result"
    }
   ],
   "source": [
    "data_ICIC= pd.read_csv('ICICIBANK.csv')\n",
    "data_ICIC.head()"
   ]
  },
  {
   "cell_type": "code",
   "execution_count": 15,
   "metadata": {},
   "outputs": [],
   "source": [
    "X=data_ICIC[['High','Low','Last','Volume']].values\n",
    "y=data_ICIC['Close'].values"
   ]
  },
  {
   "cell_type": "code",
   "execution_count": 19,
   "metadata": {},
   "outputs": [],
   "source": [
    "X_train,X_test, y_train,  y_test= train_test_split(X,y,test_size=0.3,random_state=0)"
   ]
  },
  {
   "cell_type": "code",
   "execution_count": null,
   "metadata": {},
   "outputs": [],
   "source": []
  },
  {
   "cell_type": "code",
   "execution_count": 20,
   "metadata": {},
   "outputs": [],
   "source": [
    "reg = LinearRegression()\n"
   ]
  },
  {
   "cell_type": "code",
   "execution_count": 21,
   "metadata": {},
   "outputs": [],
   "source": [
    "model=reg.fit(X_train,y_train)"
   ]
  },
  {
   "cell_type": "code",
   "execution_count": 22,
   "metadata": {},
   "outputs": [
    {
     "data": {
      "text/plain": [
       "array([130.55409522, 540.63143795, 545.40667902, ..., 192.07483117,\n",
       "       884.60682885, 598.75609969])"
      ]
     },
     "execution_count": 22,
     "metadata": {},
     "output_type": "execute_result"
    }
   ],
   "source": [
    "model.predict(X_test)"
   ]
  },
  {
   "cell_type": "code",
   "execution_count": 30,
   "metadata": {},
   "outputs": [
    {
     "data": {
      "text/plain": [
       "0.9999654548231913"
      ]
     },
     "execution_count": 30,
     "metadata": {},
     "output_type": "execute_result"
    }
   ],
   "source": [
    "model.score(X_test,y_test)"
   ]
  }
 ],
 "metadata": {
  "kernelspec": {
   "display_name": "Python 3",
   "language": "python",
   "name": "python3"
  },
  "language_info": {
   "codemirror_mode": {
    "name": "ipython",
    "version": 3
   },
   "file_extension": ".py",
   "mimetype": "text/x-python",
   "name": "python",
   "nbconvert_exporter": "python",
   "pygments_lexer": "ipython3",
   "version": "3.7.6"
  }
 },
 "nbformat": 4,
 "nbformat_minor": 4
}
